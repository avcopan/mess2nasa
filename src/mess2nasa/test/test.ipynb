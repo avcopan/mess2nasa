{
 "cells": [
  {
   "cell_type": "code",
   "execution_count": 1,
   "id": "a5145a46",
   "metadata": {},
   "outputs": [
    {
     "name": "stdout",
     "output_type": "stream",
     "text": [
      "count = 5\n"
     ]
    },
    {
     "data": {
      "image/png": "[encoded data removed]",
      "text/plain": [
       "<rdkit.Chem.rdchem.Mol at 0x7f3ac1140890>"
      ]
     },
     "metadata": {},
     "output_type": "display_data"
    },
    {
     "name": "stdout",
     "output_type": "stream",
     "text": [
      "count = -6.5\n"
     ]
    },
    {
     "data": {
      "image/png": "[encoded data removed]",
      "text/plain": [
       "<rdkit.Chem.rdchem.Mol at 0x7f3ac1140890>"
      ]
     },
     "metadata": {},
     "output_type": "display_data"
    }
   ],
   "source": [
    "from importlib import reload\n",
    "\n",
    "from automol import smiles, graph\n",
    "\n",
    "from mess2nasa import hform\n",
    "\n",
    "reload(hform)\n",
    "\n",
    "gra = smiles.graph(\"C=CC=C[CH2]\")\n",
    "basis = hform.isogyric_basis(gra)\n",
    "\n",
    "for basis_gra, basis_count in basis:\n",
    "    print(f\"count = {basis_count}\")\n",
    "    graph.display(basis_gra)"
   ]
  },
  {
   "cell_type": "code",
   "execution_count": null,
   "id": "f6acc6ea",
   "metadata": {},
   "outputs": [],
   "source": []
  }
 ],
 "metadata": {
  "kernelspec": {
   "display_name": "default",
   "language": "python",
   "name": "python3"
  },
  "language_info": {
   "codemirror_mode": {
    "name": "ipython",
    "version": 3
   },
   "file_extension": ".py",
   "mimetype": "text/x-python",
   "name": "python",
   "nbconvert_exporter": "python",
   "pygments_lexer": "ipython3",
   "version": "3.12.10"
  }
 },
 "nbformat": 4,
 "nbformat_minor": 5
}
