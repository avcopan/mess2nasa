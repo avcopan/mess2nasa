{
 "cells": [
  {
   "cell_type": "code",
   "execution_count": 1,
   "id": "19e674d1",
   "metadata": {},
   "outputs": [],
   "source": [
    "import shutil\n",
    "import subprocess\n",
    "import sys\n",
    "import tempfile\n",
    "from pathlib import Path\n",
    "\n",
    "import autochem\n",
    "\n",
    "# User inputs:\n",
    "formula = \"C5H7\"\n",
    "Hf = 86.239\n",
    "Tf = 0\n",
    "units = {\"energy\": \"kcal\"}\n",
    "run_path = \"run\"\n",
    "# run_path = None"
   ]
  },
  {
   "cell_type": "code",
   "execution_count": 2,
   "id": "5fda8ea2",
   "metadata": {},
   "outputs": [],
   "source": [
    "# 0. Create temporary directory to run in\n",
    "tmp_dir = None if run_path else tempfile.TemporaryDirectory(dir=\".\")\n",
    "run_path = Path(run_path or tmp_dir.name)\n",
    "run_path.mkdir(exist_ok=True)\n",
    "pf_inp_name = Path(\"pf.inp\")\n",
    "pf_inp_path = shutil.copyfile(pf_inp_name, run_path / pf_inp_name)"
   ]
  },
  {
   "cell_type": "code",
   "execution_count": 3,
   "id": "762256ba",
   "metadata": {},
   "outputs": [],
   "source": [
    "# 1. Run MESS-PF and read output to string\n",
    "subprocess.run([\"messpf\", pf_inp_name], cwd=run_path)\n",
    "pf_str = pf_inp_path.with_suffix(\".dat\").read_text()"
   ]
  },
  {
   "cell_type": "code",
   "execution_count": 4,
   "id": "1c4ba14b",
   "metadata": {},
   "outputs": [],
   "source": [
    "# 2. Initialize autochem.therm.Species object with partition function data\n",
    "spc = autochem.therm.from_messpf_output_string(\n",
    "    pf_str, formula=formula, Hf=Hf, Tf=Tf, units=units\n",
    ")"
   ]
  },
  {
   "cell_type": "code",
   "execution_count": 5,
   "id": "48eb4628",
   "metadata": {},
   "outputs": [
    {
     "name": "stderr",
     "output_type": "stream",
     "text": [
      "Note: The following floating-point exceptions are signalling: IEEE_DIVIDE_BY_ZERO\n"
     ]
    },
    {
     "data": {
      "text/plain": [
       "CompletedProcess(args=['pac99'], returncode=0)"
      ]
     },
     "execution_count": 5,
     "metadata": {},
     "output_type": "execute_result"
    }
   ],
   "source": [
    "# 3. Write PAC99 input and run PAC99\n",
    "pac_inp_name = Path(formula).with_suffix(\".i97\")\n",
    "pac_inp_path = run_path / pac_inp_name\n",
    "pac_inp_path.write_text(autochem.therm.pac99_input_string(spc))\n",
    "# Copy PAC99's new.groups data file\n",
    "pac_share_path = Path(sys.prefix) / \"share\" / \"pac99\"\n",
    "for pac_share_file in pac_share_path.iterdir():\n",
    "    shutil.copyfile(pac_share_file, run_path / pac_share_file.name)\n",
    "pac_log_path = run_path / pac_inp_name.with_suffix(\".log\")\n",
    "subprocess.run(\n",
    "    [\"pac99\"],\n",
    "    input=pac_inp_name.stem.encode(),\n",
    "    stdout=pac_log_path.open(\"w\"),\n",
    "    cwd=run_path,\n",
    ")"
   ]
  },
  {
   "cell_type": "code",
   "execution_count": 6,
   "id": "65153d7b",
   "metadata": {},
   "outputs": [
    {
     "name": "stdout",
     "output_type": "stream",
     "text": [
      "C5H7(487)z              C   5H   7          G     200.0    3000.0  1000.0      1\n",
      " 5.44139387E+00 2.99849337E-02-1.45175641E-05 3.42018649E-09-3.17917319E-13    2\n",
      " 3.84863610E+04 1.50413709E+00 8.03819494E+00-9.15747006E-03 1.04299288E-04    3\n",
      "-1.30879516E-07 5.17105360E-11 3.90243795E+04-4.94049720E+00                   4\n"
     ]
    }
   ],
   "source": [
    "# 4. Read PAC99 output and convert to Chemkin\n",
    "pac_out_name = pac_inp_name.with_suffix(\".c97\")\n",
    "pac_out_path = run_path / pac_out_name\n",
    "pac_out_str = pac_out_path.read_text()\n",
    "spc = autochem.therm.from_pac99_output_string(pac_out_str)\n",
    "ckin_str = autochem.therm.chemkin_string(spc)\n",
    "ckin_name = pac_inp_name.with_suffix(\".ckin\")\n",
    "ckin_path = Path(\".\") / ckin_name\n",
    "ckin_path.write_text(ckin_str)\n",
    "print(ckin_str)"
   ]
  },
  {
   "cell_type": "code",
   "execution_count": 7,
   "id": "f94e8033",
   "metadata": {},
   "outputs": [],
   "source": [
    "if tmp_dir:\n",
    "    tmp_dir.cleanup()"
   ]
  }
 ],
 "metadata": {
  "kernelspec": {
   "display_name": "default",
   "language": "python",
   "name": "python3"
  },
  "language_info": {
   "codemirror_mode": {
    "name": "ipython",
    "version": 3
   },
   "file_extension": ".py",
   "mimetype": "text/x-python",
   "name": "python",
   "nbconvert_exporter": "python",
   "pygments_lexer": "ipython3",
   "version": "3.13.2"
  }
 },
 "nbformat": 4,
 "nbformat_minor": 5
}
